{
 "cells": [
  {
   "cell_type": "code",
   "execution_count": 9,
   "metadata": {},
   "outputs": [],
   "source": [
    "import numpy as np\n",
    "import matplotlib.pyplot as plt\n",
    "import math\n",
    "import random\n",
    "%matplotlib inline\n",
    "\n"
   ]
  },
  {
   "cell_type": "code",
   "execution_count": 8,
   "metadata": {},
   "outputs": [],
   "source": [
    "import sys\n",
    "sys.path\n",
    "sys.path.insert(0, '/Users/asaadeldin/Downloads/GitHub/graspy')"
   ]
  },
  {
   "cell_type": "code",
   "execution_count": 7,
   "metadata": {},
   "outputs": [],
   "source": [
    "from graspy.match import SeededGraphMatching as SGM"
   ]
  },
  {
   "cell_type": "code",
   "execution_count": 4,
   "metadata": {},
   "outputs": [],
   "source": [
    "def SGMtest(A,B,pi):\n",
    "    n = A.shape[0]\n",
    "    for m in range(1,5):\n",
    "        ofvs = [0]*30\n",
    "        for i in range(30):\n",
    "            W1 = np.sort(random.sample(list(range(n)),m))\n",
    "            W2 = np.array([pi[z] for z in W1])\n",
    "            faq = SGM(shuffle_input=False)\n",
    "            faq = faq.fit(A,B,W1,W2)\n",
    "            ofvs[i] = faq.score_\n",
    "        print(\"OFV with \" + str(m) + \" seeds: \"+ str(np.mean(ofvs)))"
   ]
  },
  {
   "cell_type": "code",
   "execution_count": 10,
   "metadata": {},
   "outputs": [
    {
     "name": "stdout",
     "output_type": "stream",
     "text": [
      "[ 3  7 10]\n",
      "[2 5 1]\n",
      "[ 6  4  0  2  9  3  7  5  8 10  1 11]\n",
      "[ 6  4  0  2  9  3  7  5  8 10  1 11]\n",
      "11156\n",
      "11156\n"
     ]
    }
   ],
   "source": [
    "with open(\"qapdata/chr12c.dat\") as f:\n",
    "    f = [int(elem) for elem in f.read().split()]\n",
    "# adjusting\n",
    "f = np.array(f[1:])\n",
    "n = int(math.sqrt(len(f) / 2))\n",
    "f = f.reshape(2 * n, n)\n",
    "A = f[:n, :]\n",
    "B = f[n:, :]\n",
    "pi = np.array([7,5,1,3,10,4,8,6,9,11,2,12])-[1]*n\n",
    "W1 = np.sort(random.sample(list(range(n)),3))\n",
    "W2 = np.array([pi[z] for z in W1])\n",
    "#faq = SGM(n_init=100,init_method=\"rand\",shuffle_input=False)\n",
    "faq = SGM()\n",
    "faq = faq.fit(A,B,W1,W2)\n",
    "print(W1)\n",
    "print(W2)\n",
    "print(pi)\n",
    "print(faq.perm_inds_)\n",
    "print(faq.score_)\n",
    "print(np.trace(np.transpose(A) @ B[np.ix_(faq.perm_inds_, faq.perm_inds_)]))\n"
   ]
  },
  {
   "cell_type": "code",
   "execution_count": 5,
   "metadata": {},
   "outputs": [
    {
     "name": "stdout",
     "output_type": "stream",
     "text": [
      "OFV with 1 seeds: 19749.0\n",
      "OFV with 2 seeds: 17739.6\n",
      "OFV with 3 seeds: 15391.133333333333\n",
      "OFV with 4 seeds: 14121.066666666668\n"
     ]
    }
   ],
   "source": [
    "with open(\"qapdata/chr12c.dat\") as f:\n",
    "    f = [int(elem) for elem in f.read().split()]\n",
    "# adjusting\n",
    "f = np.array(f[1:])\n",
    "n = int(math.sqrt(len(f) / 2))\n",
    "f = f.reshape(2 * n, n)\n",
    "A = f[:n, :]\n",
    "B = f[n:, :]\n",
    "pi = np.array([7,5,1,3,10,4,8,6,9,11,2,12])-[1]*n\n",
    "SGMtest(A,B,pi)"
   ]
  },
  {
   "cell_type": "code",
   "execution_count": 60,
   "metadata": {},
   "outputs": [
    {
     "name": "stdout",
     "output_type": "stream",
     "text": [
      "OFV with 1 seeds: 15472.866666666667\n",
      "OFV with 2 seeds: 16917.533333333333\n",
      "OFV with 3 seeds: 14576.4\n",
      "OFV with 4 seeds: 14623.066666666668\n"
     ]
    }
   ],
   "source": [
    "with open('qapdata/chr15a.dat') as f:\n",
    "        f = [int(elem) for elem in f.read().split()]\n",
    "\n",
    "# adjusting\n",
    "f = np.array(f[1:])   \n",
    "n = int(math.sqrt(len(f)/2))\n",
    "\n",
    "f = f.reshape(2*n,n)\n",
    "A = f[:n,:]\n",
    "B = f[n:,:]\n",
    "pi = np.array([5,10,8,13,12,11,14,2,4,6,7,15,3,1,9])-[1]*n\n",
    "\n",
    "SGMtest(A,B,pi)"
   ]
  },
  {
   "cell_type": "code",
   "execution_count": 48,
   "metadata": {},
   "outputs": [
    {
     "name": "stdout",
     "output_type": "stream",
     "text": [
      "OFV with 1 seeds: 18502.4\n",
      "OFV with 2 seeds: 15190.6\n",
      "OFV with 3 seeds: 15402.933333333332\n",
      "OFV with 4 seeds: 14349.0\n"
     ]
    }
   ],
   "source": [
    "with open('qapdata/chr15c.dat') as f:\n",
    "        f = [int(elem) for elem in f.read().split()]\n",
    "\n",
    "# adjusting\n",
    "f = np.array(f[1:])   \n",
    "n = int(math.sqrt(len(f)/2))\n",
    "\n",
    "f = f.reshape(2*n,n)\n",
    "A = f[:n,:]\n",
    "B = f[n:,:]\n",
    "pi = np.array([13,2,5,7,8,1,14,6,4,3,15,9,12,11,10])-[1]*n\n",
    "\n",
    "SGMtest(A,B,pi)"
   ]
  },
  {
   "cell_type": "code",
   "execution_count": 49,
   "metadata": {},
   "outputs": [
    {
     "name": "stdout",
     "output_type": "stream",
     "text": [
      "OFV with 1 seeds: 3632.4666666666667\n",
      "OFV with 2 seeds: 3519.2\n",
      "OFV with 3 seeds: 3453.8\n",
      "OFV with 4 seeds: 3134.0\n"
     ]
    }
   ],
   "source": [
    "with open('qapdata/chr20b.dat') as f:\n",
    "        f = [int(elem) for elem in f.read().split()]\n",
    "\n",
    "# adjusting\n",
    "f = np.array(f[1:])   \n",
    "n = int(math.sqrt(len(f)/2))\n",
    "\n",
    "f = f.reshape(2*n,n)\n",
    "A = f[:n,:]\n",
    "B = f[n:,:]\n",
    "pi = np.array([20,3,9,7,1,12,16,6,8,14,10,4,5,13,17,2,18,11,19,15])-[1]*n\n",
    "\n",
    "SGMtest(A,B,pi)"
   ]
  },
  {
   "cell_type": "code",
   "execution_count": 50,
   "metadata": {},
   "outputs": [
    {
     "name": "stdout",
     "output_type": "stream",
     "text": [
      "OFV with 1 seeds: 8333.466666666667\n",
      "OFV with 2 seeds: 8034.266666666666\n",
      "OFV with 3 seeds: 7805.333333333333\n",
      "OFV with 4 seeds: 7752.6\n"
     ]
    }
   ],
   "source": [
    "with open('qapdata/chr22b.dat') as f:\n",
    "        f = [int(elem) for elem in f.read().split()]\n",
    "\n",
    "# adjusting\n",
    "f = np.array(f[1:])   \n",
    "n = int(math.sqrt(len(f)/2))\n",
    "\n",
    "f = f.reshape(2*n,n)\n",
    "A = f[:n,:]\n",
    "B = f[n:,:]\n",
    "pi = np.array([10,19,3,1,20,2,6,4,7,8,17,12,11,15,21,13,9,5,22,14,18,16])-[1]*n\n",
    "\n",
    "SGMtest(A,B,pi)"
   ]
  },
  {
   "cell_type": "code",
   "execution_count": 51,
   "metadata": {},
   "outputs": [
    {
     "name": "stdout",
     "output_type": "stream",
     "text": [
      "OFV with 1 seeds: 294.73333333333335\n",
      "OFV with 2 seeds: 294.06666666666666\n",
      "OFV with 3 seeds: 293.2\n",
      "OFV with 4 seeds: 293.73333333333335\n"
     ]
    }
   ],
   "source": [
    "with open('qapdata/esc16b.dat') as f:\n",
    "        f = [int(elem) for elem in f.read().split()]\n",
    "\n",
    "# adjusting\n",
    "f = np.array(f[1:])   \n",
    "n = int(math.sqrt(len(f)/2))\n",
    "\n",
    "f = f.reshape(2*n,n)\n",
    "A = f[:n,:]\n",
    "B = f[n:,:]\n",
    "pi = np.array([6,3,7,5,13,1,15,2,4,11,9,14,10,12,8,16])-[1]*n\n",
    "\n",
    "SGMtest(A,B,pi)"
   ]
  },
  {
   "cell_type": "code",
   "execution_count": 52,
   "metadata": {},
   "outputs": [
    {
     "name": "stdout",
     "output_type": "stream",
     "text": [
      "OFV with 1 seeds: 250666.86666666667\n",
      "OFV with 2 seeds: 241117.6\n",
      "OFV with 3 seeds: 238694.0\n",
      "OFV with 4 seeds: 236109.06666666668\n"
     ]
    }
   ],
   "source": [
    "with open('qapdata/rou12.dat') as f:\n",
    "        f = [int(elem) for elem in f.read().split()]\n",
    "\n",
    "# adjusting\n",
    "f = np.array(f[1:])   \n",
    "n = int(math.sqrt(len(f)/2))\n",
    "\n",
    "f = f.reshape(2*n,n)\n",
    "A = f[:n,:]\n",
    "B = f[n:,:]\n",
    "pi = np.array([6,5,11,9,2,8,3,1,12,7,4,10])-[1]*n\n",
    "\n",
    "SGMtest(A,B,pi)"
   ]
  },
  {
   "cell_type": "code",
   "execution_count": 53,
   "metadata": {},
   "outputs": [
    {
     "name": "stdout",
     "output_type": "stream",
     "text": [
      "OFV with 1 seeds: 368860.2\n",
      "OFV with 2 seeds: 358697.06666666665\n",
      "OFV with 3 seeds: 358257.86666666664\n",
      "OFV with 4 seeds: 355367.4666666667\n"
     ]
    }
   ],
   "source": [
    "with open('qapdata/rou15.dat') as f:\n",
    "        f = [int(elem) for elem in f.read().split()]\n",
    "\n",
    "# adjusting\n",
    "f = np.array(f[1:])   \n",
    "n = int(math.sqrt(len(f)/2))\n",
    "\n",
    "f = f.reshape(2*n,n)\n",
    "A = f[:n,:]\n",
    "B = f[n:,:]\n",
    "pi = np.array([12,6,8,13,5,3,15,2,7,1,9,10,4,14,11])-[1]*n\n",
    "\n",
    "SGMtest(A,B,pi)"
   ]
  },
  {
   "cell_type": "code",
   "execution_count": 54,
   "metadata": {},
   "outputs": [
    {
     "name": "stdout",
     "output_type": "stream",
     "text": [
      "OFV with 1 seeds: 746158.4666666667\n",
      "OFV with 2 seeds: 747792.3333333334\n",
      "OFV with 3 seeds: 745508.0\n",
      "OFV with 4 seeds: 735216.6666666666\n"
     ]
    }
   ],
   "source": [
    "with open('qapdata/rou20.dat') as f:\n",
    "        f = [int(elem) for elem in f.read().split()]\n",
    "\n",
    "# adjusting\n",
    "f = np.array(f[1:])   \n",
    "n = int(math.sqrt(len(f)/2))\n",
    "\n",
    "f = f.reshape(2*n,n)\n",
    "A = f[:n,:]\n",
    "B = f[n:,:]\n",
    "pi = np.array([1,19,2,14,10,16,11,20,9,5,7,4,8,18,15,3,12,17,13,6])-[1]*n\n",
    "\n",
    "SGMtest(A,B,pi)"
   ]
  },
  {
   "cell_type": "code",
   "execution_count": 55,
   "metadata": {},
   "outputs": [
    {
     "name": "stdout",
     "output_type": "stream",
     "text": [
      "OFV with 1 seeds: 400170.13333333336\n",
      "OFV with 2 seeds: 402495.26666666666\n",
      "OFV with 3 seeds: 399453.6666666667\n",
      "OFV with 4 seeds: 394092.6666666667\n"
     ]
    }
   ],
   "source": [
    "with open('qapdata/tai15a.dat') as f:\n",
    "        f = [int(elem) for elem in f.read().split()]\n",
    "\n",
    "# adjusting\n",
    "f = np.array(f[1:])   \n",
    "n = int(math.sqrt(len(f)/2))\n",
    "\n",
    "f = f.reshape(2*n,n)\n",
    "A = f[:n,:]\n",
    "B = f[n:,:]\n",
    "pi = np.array([5,10,4,13,2,9,1,11,12,14,7,15,3,8,6])-[1]*n\n",
    "\n",
    "SGMtest(A,B,pi)"
   ]
  },
  {
   "cell_type": "code",
   "execution_count": 56,
   "metadata": {},
   "outputs": [
    {
     "name": "stdout",
     "output_type": "stream",
     "text": [
      "OFV with 1 seeds: 515560.3333333333\n",
      "OFV with 2 seeds: 510177.5333333333\n",
      "OFV with 3 seeds: 510174.4666666667\n",
      "OFV with 4 seeds: 501128.4\n"
     ]
    }
   ],
   "source": [
    "with open('qapdata/tai17a.dat') as f:\n",
    "        f = [int(elem) for elem in f.read().split()]\n",
    "\n",
    "# adjusting\n",
    "f = np.array(f[1:])   \n",
    "n = int(math.sqrt(len(f)/2))\n",
    "\n",
    "f = f.reshape(2*n,n)\n",
    "A = f[:n,:]\n",
    "B = f[n:,:]\n",
    "pi = np.array([12,2,6,7,4,8,14,5,11,3,16,13,17,9,1,10,15])-[1]*n\n",
    "\n",
    "SGMtest(A,B,pi)"
   ]
  },
  {
   "cell_type": "code",
   "execution_count": 57,
   "metadata": {},
   "outputs": [
    {
     "name": "stdout",
     "output_type": "stream",
     "text": [
      "OFV with 1 seeds: 735769.3333333334\n",
      "OFV with 2 seeds: 731969.0666666667\n",
      "OFV with 3 seeds: 724333.6\n",
      "OFV with 4 seeds: 720749.8\n"
     ]
    }
   ],
   "source": [
    "with open('qapdata/tai20a.dat') as f:\n",
    "        f = [int(elem) for elem in f.read().split()]\n",
    "\n",
    "# adjusting\n",
    "f = np.array(f[1:])   \n",
    "n = int(math.sqrt(len(f)/2))\n",
    "\n",
    "f = f.reshape(2*n,n)\n",
    "A = f[:n,:]\n",
    "B = f[n:,:]\n",
    "pi = np.array([10,9,12,20,19,3,14,6,17,11,5,7,15,16,18,2,4,8,13,1])-[1]*n\n",
    "\n",
    "SGMtest(A,B,pi)"
   ]
  },
  {
   "cell_type": "code",
   "execution_count": 58,
   "metadata": {},
   "outputs": [
    {
     "name": "stdout",
     "output_type": "stream",
     "text": [
      "OFV with 1 seeds: 1883309.3333333333\n",
      "OFV with 2 seeds: 1871592.1333333333\n",
      "OFV with 3 seeds: 1867979.0\n",
      "OFV with 4 seeds: 1859929.2666666666\n"
     ]
    }
   ],
   "source": [
    "with open('qapdata/tai30a.dat') as f:\n",
    "        f = [int(elem) for elem in f.read().split()]\n",
    "\n",
    "# adjusting\n",
    "f = np.array(f[1:])   \n",
    "n = int(math.sqrt(len(f)/2))\n",
    "\n",
    "f = f.reshape(2*n,n)\n",
    "A = f[:n,:]\n",
    "B = f[n:,:]\n",
    "pi = np.array([19, 18, 4, 24, 30, 25, 5, 7, 1, 22, 28, 20, 11,13, 9, 16, 8, 10, 17, 21, 12, 29, 2, 15, 3, 14, 26, 27, 23, 6])-[1]*n\n",
    "\n",
    "SGMtest(A,B,pi)"
   ]
  },
  {
   "cell_type": "code",
   "execution_count": 59,
   "metadata": {},
   "outputs": [
    {
     "name": "stdout",
     "output_type": "stream",
     "text": [
      "OFV with 1 seeds: 2501301.7333333334\n",
      "OFV with 2 seeds: 2502449.533333333\n",
      "OFV with 3 seeds: 2499441.2666666666\n",
      "OFV with 4 seeds: 2489536.8\n"
     ]
    }
   ],
   "source": [
    "with open('qapdata/tai35a.dat') as f:\n",
    "        f = [int(elem) for elem in f.read().split()]\n",
    "\n",
    "# adjusting\n",
    "f = np.array(f[1:])   \n",
    "n = int(math.sqrt(len(f)/2))\n",
    "\n",
    "f = f.reshape(2*n,n)\n",
    "A = f[:n,:]\n",
    "B = f[n:,:]\n",
    "pi = np.array([19,9,28,12,7,33,13,26,5,2,31,16,24,27,22,15,3,30,29,11,6,25,21,23,34,20,18,4,10,1,14,8,32,35,17])-[1]*n\n",
    "\n",
    "SGMtest(A,B,pi)"
   ]
  },
  {
   "cell_type": "code",
   "execution_count": null,
   "metadata": {},
   "outputs": [],
   "source": []
  },
  {
   "cell_type": "code",
   "execution_count": null,
   "metadata": {},
   "outputs": [],
   "source": []
  },
  {
   "cell_type": "code",
   "execution_count": 10,
   "metadata": {},
   "outputs": [],
   "source": [
    "import numpy as np\n",
    "import math\n",
    "from scipy.optimize import linear_sum_assignment\n",
    "from scipy.optimize import minimize_scalar\n",
    "from sklearn.utils import check_array\n",
    "from sklearn.utils import column_or_1d\n",
    "from graspy.match import SinkhornKnopp\n",
    "\n",
    "\n",
    "class SGM1:\n",
    "    \"\"\"\n",
    "    Seeded Graph Matching Algorithm (SGM)\n",
    "    The seeded graph matching problem is a variation of graph matching\n",
    "     in which part of the matching is fixed. This algorithm is a modification\n",
    "     of FAQ, an algorithm also implemented in this package[1].\n",
    "\n",
    "\n",
    "    Parameters\n",
    "    ----------\n",
    "\n",
    "    n_init : int, positive (default = 1)\n",
    "        Number of random initializations of the starting permutation matrix that\n",
    "        the FAQ algorithm will undergo. n_init automatically set to 1 if\n",
    "        init_method = 'barycenter'\n",
    "\n",
    "    init_method : string (default = 'barycenter')\n",
    "        The initial position chosen\n",
    "\n",
    "        \"barycenter\" : the non-informative “flat doubly stochastic matrix,”\n",
    "        :math:`J=1*1^T /n` , i.e the barycenter of the feasible region\n",
    "\n",
    "        \"rand\" : some random point near :math:`J, (J+K)/2`, where K is some random doubly\n",
    "        stochastic matrix\n",
    "\n",
    "    max_iter : int, positive (default = 30)\n",
    "        Integer specifying the max number of FW iterations.\n",
    "        FAQ typically converges with modest number of iterations\n",
    "\n",
    "    shuffle_input : bool (default = True)\n",
    "        Gives users the option to shuffle the nodes of A matrix to avoid results\n",
    "        from inputs that were already matched\n",
    "\n",
    "    eps : float (default = 0.1)\n",
    "        A positive, threshold stopping criteria such that FW continues to iterate\n",
    "        while Frobenius norm of :math:`(P_{i}-P_{i+1}) > eps`\n",
    "\n",
    "\n",
    "    gmp : bool (default = False)\n",
    "        Gives users the option to the Graph Matching Problem (GMP) rather than\n",
    "        the Quadratic Assignment (QAP). This is accomplished through trivial\n",
    "        negation of the objective function.\n",
    "\n",
    "    Attributes\n",
    "    ----------\n",
    "\n",
    "    perm_inds_ : array, size (n,) where n is the number of vertices in the graphs fitted.\n",
    "        The indices of the optimal permutation on the nodes of B, found via\n",
    "        FAQ, to best minimize the objective function :math:`f(P) = trace(A^T PBP^T )`.\n",
    "\n",
    "\n",
    "    score_ : float\n",
    "        The objective function value of for the optimal permutation found.\n",
    "\n",
    "\n",
    "    References\n",
    "    ----------\n",
    "    .. [1] J. T. Vogelstein, J. M. Conroy, V. Lyzinski, L. J. Podrazik, S. G. Kratzer,\n",
    "           E. T. Harley, D. E. Fishkind, R. J. Vogelstein, and C. E. Priebe, “Fast\n",
    "           approximate quadratic programming for graph matching,” PLOS one, vol. 10,\n",
    "           no. 4, p. e0121002, 2015.\n",
    "\n",
    "\n",
    "\n",
    "    \"\"\"\n",
    "\n",
    "    def __init__(\n",
    "        self,\n",
    "        n_init=1,\n",
    "        init_method=\"barycenter\",\n",
    "        max_iter=30,\n",
    "        shuffle_input=True,\n",
    "        eps=0.1,\n",
    "        gmp=False,\n",
    "    ):\n",
    "\n",
    "        if n_init > 0 and type(n_init) is int:\n",
    "            self.n_init = n_init\n",
    "        else:\n",
    "            msg = '\"n_init\" must be a positive integer'\n",
    "            raise TypeError(msg)\n",
    "        if init_method == \"rand\":\n",
    "            self.init_method = \"rand\"\n",
    "        elif init_method == \"barycenter\":\n",
    "            self.init_method = \"barycenter\"\n",
    "            self.n_init = 1\n",
    "        else:\n",
    "            msg = 'Invalid \"init_method\" parameter string'\n",
    "            raise ValueError(msg)\n",
    "        if max_iter > 0 and type(max_iter) is int:\n",
    "            self.max_iter = max_iter\n",
    "        else:\n",
    "            msg = '\"max_iter\" must be a positive integer'\n",
    "            raise TypeError(msg)\n",
    "        if type(shuffle_input) is bool:\n",
    "            self.shuffle_input = shuffle_input\n",
    "        else:\n",
    "            msg = '\"shuffle_input\" must be a boolean'\n",
    "            raise TypeError(msg)\n",
    "        if eps > 0 and type(eps) is float:\n",
    "            self.eps = eps\n",
    "        else:\n",
    "            msg = '\"eps\" must be a positive float'\n",
    "            raise TypeError(msg)\n",
    "        if type(gmp) is bool:\n",
    "            self.gmp = gmp\n",
    "        else:\n",
    "            msg = '\"gmp\" must be a boolean'\n",
    "            raise TypeError(msg)\n",
    "\n",
    "    def fit(self, A, B, W1=[], W2=[]):\n",
    "        \"\"\"\n",
    "        Fits the model with two assigned adjacency matrices\n",
    "\n",
    "        Parameters\n",
    "        ---------\n",
    "        A : 2d-array, square, positive\n",
    "            A square, positive adjacency matrix\n",
    "\n",
    "        B : 2d-array, square, positive\n",
    "            A square, positive adjacency matrix\n",
    "\n",
    "        W1 : 1d-array, shape (m , 1) where m <= n\n",
    "            An array where each entry is a node in A\n",
    "\n",
    "        W2 : 1d-array, shape (m , 1) where m <= n\n",
    "            An array where each entry is a node in B\n",
    "            The elements of W1 and W2 are seeds, creating a fixed\n",
    "            seeding of W1 -> W2\n",
    "\n",
    "        Returns\n",
    "        -------\n",
    "\n",
    "        self : returns an instance of self\n",
    "        \"\"\"\n",
    "        A = check_array(A, copy=True, ensure_2d=True)\n",
    "        B = check_array(B, copy=True, ensure_2d=True)\n",
    "        W1 = column_or_1d(W1)\n",
    "        W2 = column_or_1d(W2)\n",
    "        \n",
    "        if A.shape[0] != B.shape[0]:\n",
    "            msg = \"Adjacency matrices must be of equal size\"\n",
    "            raise ValueError(msg)\n",
    "        elif A.shape[0] != A.shape[1] or B.shape[0] != B.shape[1]:\n",
    "            msg = \"Adjacency matrix entries must be square\"\n",
    "            raise ValueError(msg)\n",
    "        elif (A >= 0).all() == False or (B >= 0).all() == False:\n",
    "            msg = \"Adjacency matrix entries must be greater than or equal to zero\"\n",
    "            raise ValueError(msg)\n",
    "        elif W1.shape[0] != W2.shape[0]:\n",
    "            msg = \"Seed arrays must be of equal size\"\n",
    "            raise ValueError(msg)\n",
    "        elif W1.shape[0] > A.shape[0]:\n",
    "            msg = \"There cannot be more seeds than there are nodes\"\n",
    "            raise ValueError(msg)\n",
    "        elif (W1 >= 0).all() == False or (W2 >= 0).all() == False:\n",
    "            msg = \"Seed array entries must be greater than or equal to zero\"\n",
    "            raise ValueError(msg)\n",
    "\n",
    "        n = A.shape[0]  # number of vertices in graphs\n",
    "        n_seeds = W1.shape[0]  # number of seeds\n",
    "        n_unseed = n - n_seeds\n",
    "\n",
    "        obj_func_scalar = 1\n",
    "        if self.gmp:\n",
    "            obj_func_scalar = -1\n",
    "        \n",
    "        if self.shuffle_input:\n",
    "            W2_c = np.random.permutation(np.array([x for x in range(n) if x not in W2])\n",
    "                                        )\n",
    "        else:\n",
    "            W2_c = np.array([x for x in range(n) if x not in W2])\n",
    "            \n",
    "        W1_c = np.array([x for x in range(n) if x not in W1])\n",
    "        \n",
    "        p_A = np.concatenate(\n",
    "            [W1, W1_c], axis=None\n",
    "        ).astype(int)\n",
    "        p_B = np.concatenate(\n",
    "            [W2, W2_c], axis=None\n",
    "        ).astype(int)\n",
    "        print(p_A)\n",
    "        A = A[np.ix_(p_A, p_A)]\n",
    "        B = B[np.ix_(p_B, p_B)]\n",
    "\n",
    "        A11 = A[:n_seeds, :n_seeds]\n",
    "        A12 = A[:n_seeds, n_seeds:]\n",
    "        A21 = A[n_seeds:, :n_seeds]\n",
    "        A22 = A[n_seeds:, n_seeds:]\n",
    "        B11 = B[:n_seeds, :n_seeds]\n",
    "        B12 = B[:n_seeds, n_seeds:]\n",
    "        B21 = B[n_seeds:, :n_seeds]\n",
    "        B22 = B[n_seeds:, n_seeds:]\n",
    "        A11T = np.transpose(A11)\n",
    "        A12T = np.transpose(A12)\n",
    "        A22T = np.transpose(A22)\n",
    "        B21T = np.transpose(B21)\n",
    "        B22T = np.transpose(B22)\n",
    "\n",
    "        score = math.inf\n",
    "        perm_inds = np.zeros(n)\n",
    "\n",
    "        for i in range(self.n_init):\n",
    "\n",
    "            # setting initialization matrix\n",
    "            if self.init_method == \"rand\":\n",
    "                sk = SinkhornKnopp()\n",
    "                K = np.random.rand(\n",
    "                    n - n_seeds, n - n_seeds\n",
    "                )  # generate a nxn matrix where each entry is a random integer [0,1]\n",
    "                for i in range(10):  # perform 10 iterations of Sinkhorn balancing\n",
    "                    K = sk.fit(K)\n",
    "                J = np.ones((n - n_seeds, n - n_seeds)) / float(\n",
    "                    n - n_seeds\n",
    "                )  # initialize J, a doubly stochastic barycenter\n",
    "                P = (K + J) / 2\n",
    "            elif self.init_method == \"barycenter\":\n",
    "                P = np.ones((n - n_seeds, n - n_seeds)) / float(n - n_seeds)\n",
    "\n",
    "            const_sum = A21 @ np.transpose(B21) + np.transpose(A12) @ B12\n",
    "            grad_P = math.inf  # gradient of P\n",
    "            n_iter = 0  # number of FW iterations\n",
    "\n",
    "            # OPTIMIZATION WHILE LOOP BEGINS\n",
    "            while grad_P > self.eps and n_iter < self.max_iter:\n",
    "                delta_f = (\n",
    "                    const_sum + A22 @ P @ B22T + A22T @ P @ B22\n",
    "                )  # computing the gradient of f(P) = -tr(APB^tP^t)\n",
    "                rows, cols = linear_sum_assignment(\n",
    "                    obj_func_scalar * delta_f\n",
    "                )  # run hungarian algorithm on gradient(f(P))\n",
    "                Q = np.zeros((n_unseed, n_unseed))\n",
    "                Q[rows, cols] = 1  # initialize search direction matrix Q\n",
    "\n",
    "                def f(x):  # computing the original optimization function\n",
    "                    return obj_func_scalar * np.trace(A11T@B11) + np.trace(np.transpose(x*P+(1-x)*Q)@A21@B21T) + np.trace(np.transpose(x*P+(1-x)*Q)@A12T@B12) + np.trace(A22T@(x*P+(1-x)*Q)@B22@np.transpose(x*P+(1-x)*Q)) \n",
    "\n",
    "                alpha = minimize_scalar(\n",
    "                    f, bounds=(0, 1), method=\"bounded\"\n",
    "                ).x  # computing the step size\n",
    "                P_i1 = alpha * P + (1 - alpha) * Q  # Update P\n",
    "                grad_P = np.linalg.norm(P - P_i1)\n",
    "                P = P_i1\n",
    "                n_iter += 1\n",
    "            # end of FW optimization loop\n",
    "\n",
    "            row, col = linear_sum_assignment(\n",
    "                -P\n",
    "            )  # Project onto the set of permutation matrices\n",
    "            \n",
    "            perm_inds_new = np.concatenate(\n",
    "                (np.arange(n_seeds), np.array([x + n_seeds for x in col]))\n",
    "            )\n",
    "            \n",
    "            score_new = np.trace(\n",
    "                np.transpose(A) @ B[np.ix_(perm_inds_new, perm_inds_new)]\n",
    "            )  # computing objective function value\n",
    "\n",
    "            if obj_func_scalar * score_new < obj_func_scalar * score:  # minimizing\n",
    "                score = score_new\n",
    "\n",
    "                perm_inds = np.array([0] * n)\n",
    "                perm_inds[p_A] = p_B[perm_inds_new]\n",
    "                perm_inds = perm_inds.astype(int)\n",
    "\n",
    "      \n",
    "        p_A_unshuffle = np.array(range(n))\n",
    "        p_A_unshuffle[p_A] = np.array(range(n))\n",
    "        A = A[np.ix_(p_A_unshuffle, p_A_unshuffle)]\n",
    "        p_B_unshuffle = np.array(range(n))\n",
    "        p_B_unshuffle[p_B] = np.array(range(n))\n",
    "        B = B[np.ix_(p_B_unshuffle, p_B_unshuffle)]\n",
    "        score = np.trace(np.transpose(A) @ B[np.ix_(perm_inds, perm_inds)])\n",
    "        \n",
    "        self.perm_inds_ = perm_inds  # permutation indices\n",
    "        self.score_ = score  # objective function value\n",
    "        return self\n",
    "\n",
    "    def fit_predict(self, A, B):\n",
    "        \"\"\"\n",
    "        Fits the model with two assigned adjacency matrices, returning optimal\n",
    "        permutation indices\n",
    "\n",
    "        Parameters\n",
    "        ---------\n",
    "        A : 2d-array, square, positive\n",
    "            A square, positive adjacency matrix\n",
    "\n",
    "        B : 2d-array, square, positive\n",
    "            A square, positive adjacency matrix\n",
    "\n",
    "        Returns\n",
    "        -------\n",
    "\n",
    "        perm_inds_ : 1-d array, some shuffling of [0, n_vert)\n",
    "            The optimal permutation indices to minimize the objective function\n",
    "        \"\"\"\n",
    "        self.fit(A, B)\n",
    "        return self.perm_inds_"
   ]
  },
  {
   "cell_type": "code",
   "execution_count": 16,
   "metadata": {},
   "outputs": [
    {
     "name": "stdout",
     "output_type": "stream",
     "text": [
      "[0 1 2 3 4]\n",
      "[0. 1. 2. 3. 4.]\n",
      "[0 4 7]\n",
      "[6, 9, 5]\n",
      "[ 6  4  0  2  9  3  7  5  8 10  1 11]\n",
      "[ 5 10  3  7  0  9  1  6 11  4  8  2]\n",
      "11188\n",
      "11188\n"
     ]
    }
   ],
   "source": [
    "print(np.concatenate([[],np.arange(5)], axis=None).astype(int))\n",
    "with open(\"qapdata/chr12c.dat\") as f:\n",
    "    f = [int(elem) for elem in f.read().split()]\n",
    "# adjusting\n",
    "f = np.array(f[1:])\n",
    "n = int(math.sqrt(len(f) / 2))\n",
    "f = f.reshape(2 * n, n)\n",
    "A = f[:n, :]\n",
    "B = f[n:, :]\n",
    "pi = np.array([7,5,1,3,10,4,8,6,9,11,2,12])-[1]*n\n",
    "\n",
    "W1 = np.sort(random.sample(list(range(n)),3))\n",
    "#W1 = np.array([3, 5, 9])\n",
    "W2 = [pi[z] for z in W1]\n",
    "faq = SGM(n_init=100,init_method=\"rand\",shuffle_input=True)\n",
    "#faq = SGM(shuffle_input=True)\n",
    "#faq = faq.fit(A,B,W1,W2)\n",
    "faq = faq.fit(A,B)\n",
    "\n",
    "print(np.concatenate([[],np.arange(5)], axis=None))\n",
    "print(W1)\n",
    "print(W2)\n",
    "print(pi)\n",
    "print(faq.perm_inds_)\n",
    "print(faq.score_)\n",
    "print(np.trace(np.transpose(A) @ B[np.ix_(faq.perm_inds_, faq.perm_inds_)]))"
   ]
  },
  {
   "cell_type": "code",
   "execution_count": 6,
   "metadata": {},
   "outputs": [
    {
     "ename": "KeyboardInterrupt",
     "evalue": "",
     "output_type": "error",
     "traceback": [
      "\u001b[0;31m---------------------------------------------------------------------------\u001b[0m",
      "\u001b[0;31mKeyboardInterrupt\u001b[0m                         Traceback (most recent call last)",
      "\u001b[0;32m<ipython-input-6-89fee849d33a>\u001b[0m in \u001b[0;36m<module>\u001b[0;34m\u001b[0m\n\u001b[1;32m     16\u001b[0m     \u001b[0mfaq\u001b[0m \u001b[0;34m=\u001b[0m \u001b[0mSGM\u001b[0m\u001b[0;34m(\u001b[0m\u001b[0mn_init\u001b[0m\u001b[0;34m=\u001b[0m\u001b[0;36m100\u001b[0m\u001b[0;34m,\u001b[0m\u001b[0minit_method\u001b[0m\u001b[0;34m=\u001b[0m\u001b[0;34m\"rand\"\u001b[0m\u001b[0;34m,\u001b[0m\u001b[0mshuffle_input\u001b[0m\u001b[0;34m=\u001b[0m\u001b[0;32mTrue\u001b[0m\u001b[0;34m)\u001b[0m\u001b[0;34m\u001b[0m\u001b[0;34m\u001b[0m\u001b[0m\n\u001b[1;32m     17\u001b[0m     \u001b[0;31m#faq = SGM1(shuffle_input=True)\u001b[0m\u001b[0;34m\u001b[0m\u001b[0;34m\u001b[0m\u001b[0;34m\u001b[0m\u001b[0m\n\u001b[0;32m---> 18\u001b[0;31m     \u001b[0mfaq\u001b[0m \u001b[0;34m=\u001b[0m \u001b[0mfaq\u001b[0m\u001b[0;34m.\u001b[0m\u001b[0mfit\u001b[0m\u001b[0;34m(\u001b[0m\u001b[0mA\u001b[0m\u001b[0;34m,\u001b[0m\u001b[0mB\u001b[0m\u001b[0;34m,\u001b[0m\u001b[0mW1\u001b[0m\u001b[0;34m,\u001b[0m\u001b[0mW2\u001b[0m\u001b[0;34m)\u001b[0m\u001b[0;34m\u001b[0m\u001b[0;34m\u001b[0m\u001b[0m\n\u001b[0m\u001b[1;32m     19\u001b[0m     \u001b[0mofv\u001b[0m\u001b[0;34m[\u001b[0m\u001b[0mi\u001b[0m\u001b[0;34m]\u001b[0m \u001b[0;34m=\u001b[0m \u001b[0mfaq\u001b[0m\u001b[0;34m.\u001b[0m\u001b[0mscore_\u001b[0m\u001b[0;34m\u001b[0m\u001b[0;34m\u001b[0m\u001b[0m\n\u001b[1;32m     20\u001b[0m \u001b[0;34m\u001b[0m\u001b[0m\n",
      "\u001b[0;32m~/Downloads/GitHub/graspy/graspy/match/sgm.py\u001b[0m in \u001b[0;36mfit\u001b[0;34m(self, A, B, W1, W2)\u001b[0m\n\u001b[1;32m    227\u001b[0m                 )  # generate a nxn matrix where each entry is a random integer [0,1]\n\u001b[1;32m    228\u001b[0m                 \u001b[0;32mfor\u001b[0m \u001b[0mi\u001b[0m \u001b[0;32min\u001b[0m \u001b[0mrange\u001b[0m\u001b[0;34m(\u001b[0m\u001b[0;36m10\u001b[0m\u001b[0;34m)\u001b[0m\u001b[0;34m:\u001b[0m  \u001b[0;31m# perform 10 iterations of Sinkhorn balancing\u001b[0m\u001b[0;34m\u001b[0m\u001b[0;34m\u001b[0m\u001b[0m\n\u001b[0;32m--> 229\u001b[0;31m                     \u001b[0mK\u001b[0m \u001b[0;34m=\u001b[0m \u001b[0msk\u001b[0m\u001b[0;34m.\u001b[0m\u001b[0mfit\u001b[0m\u001b[0;34m(\u001b[0m\u001b[0mK\u001b[0m\u001b[0;34m)\u001b[0m\u001b[0;34m\u001b[0m\u001b[0;34m\u001b[0m\u001b[0m\n\u001b[0m\u001b[1;32m    230\u001b[0m                 J = np.ones((n - n_seeds, n - n_seeds)) / float(\n\u001b[1;32m    231\u001b[0m                     \u001b[0mn\u001b[0m \u001b[0;34m-\u001b[0m \u001b[0mn_seeds\u001b[0m\u001b[0;34m\u001b[0m\u001b[0;34m\u001b[0m\u001b[0m\n",
      "\u001b[0;32m~/Downloads/GitHub/graspy/graspy/match/skp.py\u001b[0m in \u001b[0;36mfit\u001b[0;34m(self, P)\u001b[0m\n\u001b[1;32m    154\u001b[0m         \u001b[0mP_eps\u001b[0m \u001b[0;34m=\u001b[0m \u001b[0mnp\u001b[0m\u001b[0;34m.\u001b[0m\u001b[0mcopy\u001b[0m\u001b[0;34m(\u001b[0m\u001b[0mP\u001b[0m\u001b[0;34m)\u001b[0m\u001b[0;34m\u001b[0m\u001b[0;34m\u001b[0m\u001b[0m\n\u001b[1;32m    155\u001b[0m         while (\n\u001b[0;32m--> 156\u001b[0;31m             \u001b[0mnp\u001b[0m\u001b[0;34m.\u001b[0m\u001b[0many\u001b[0m\u001b[0;34m(\u001b[0m\u001b[0mnp\u001b[0m\u001b[0;34m.\u001b[0m\u001b[0msum\u001b[0m\u001b[0;34m(\u001b[0m\u001b[0mP_eps\u001b[0m\u001b[0;34m,\u001b[0m \u001b[0maxis\u001b[0m\u001b[0;34m=\u001b[0m\u001b[0;36m1\u001b[0m\u001b[0;34m)\u001b[0m \u001b[0;34m<\u001b[0m \u001b[0mmin_thresh\u001b[0m\u001b[0;34m)\u001b[0m\u001b[0;34m\u001b[0m\u001b[0;34m\u001b[0m\u001b[0m\n\u001b[0m\u001b[1;32m    157\u001b[0m             \u001b[0;32mor\u001b[0m \u001b[0mnp\u001b[0m\u001b[0;34m.\u001b[0m\u001b[0many\u001b[0m\u001b[0;34m(\u001b[0m\u001b[0mnp\u001b[0m\u001b[0;34m.\u001b[0m\u001b[0msum\u001b[0m\u001b[0;34m(\u001b[0m\u001b[0mP_eps\u001b[0m\u001b[0;34m,\u001b[0m \u001b[0maxis\u001b[0m\u001b[0;34m=\u001b[0m\u001b[0;36m1\u001b[0m\u001b[0;34m)\u001b[0m \u001b[0;34m>\u001b[0m \u001b[0mmax_thresh\u001b[0m\u001b[0;34m)\u001b[0m\u001b[0;34m\u001b[0m\u001b[0;34m\u001b[0m\u001b[0m\n\u001b[1;32m    158\u001b[0m             \u001b[0;32mor\u001b[0m \u001b[0mnp\u001b[0m\u001b[0;34m.\u001b[0m\u001b[0many\u001b[0m\u001b[0;34m(\u001b[0m\u001b[0mnp\u001b[0m\u001b[0;34m.\u001b[0m\u001b[0msum\u001b[0m\u001b[0;34m(\u001b[0m\u001b[0mP_eps\u001b[0m\u001b[0;34m,\u001b[0m \u001b[0maxis\u001b[0m\u001b[0;34m=\u001b[0m\u001b[0;36m0\u001b[0m\u001b[0;34m)\u001b[0m \u001b[0;34m<\u001b[0m \u001b[0mmin_thresh\u001b[0m\u001b[0;34m)\u001b[0m\u001b[0;34m\u001b[0m\u001b[0;34m\u001b[0m\u001b[0m\n",
      "\u001b[0;32m<__array_function__ internals>\u001b[0m in \u001b[0;36msum\u001b[0;34m(*args, **kwargs)\u001b[0m\n",
      "\u001b[0;32m~/anaconda3/lib/python3.7/site-packages/numpy/core/fromnumeric.py\u001b[0m in \u001b[0;36msum\u001b[0;34m(a, axis, dtype, out, keepdims, initial, where)\u001b[0m\n\u001b[1;32m   2180\u001b[0m \u001b[0;34m\u001b[0m\u001b[0m\n\u001b[1;32m   2181\u001b[0m     return _wrapreduction(a, np.add, 'sum', axis, dtype, out, keepdims=keepdims,\n\u001b[0;32m-> 2182\u001b[0;31m                           initial=initial, where=where)\n\u001b[0m\u001b[1;32m   2183\u001b[0m \u001b[0;34m\u001b[0m\u001b[0m\n\u001b[1;32m   2184\u001b[0m \u001b[0;34m\u001b[0m\u001b[0m\n",
      "\u001b[0;32m~/anaconda3/lib/python3.7/site-packages/numpy/core/fromnumeric.py\u001b[0m in \u001b[0;36m_wrapreduction\u001b[0;34m(obj, ufunc, method, axis, dtype, out, **kwargs)\u001b[0m\n\u001b[1;32m     71\u001b[0m \u001b[0;34m\u001b[0m\u001b[0m\n\u001b[1;32m     72\u001b[0m \u001b[0;34m\u001b[0m\u001b[0m\n\u001b[0;32m---> 73\u001b[0;31m \u001b[0;32mdef\u001b[0m \u001b[0m_wrapreduction\u001b[0m\u001b[0;34m(\u001b[0m\u001b[0mobj\u001b[0m\u001b[0;34m,\u001b[0m \u001b[0mufunc\u001b[0m\u001b[0;34m,\u001b[0m \u001b[0mmethod\u001b[0m\u001b[0;34m,\u001b[0m \u001b[0maxis\u001b[0m\u001b[0;34m,\u001b[0m \u001b[0mdtype\u001b[0m\u001b[0;34m,\u001b[0m \u001b[0mout\u001b[0m\u001b[0;34m,\u001b[0m \u001b[0;34m**\u001b[0m\u001b[0mkwargs\u001b[0m\u001b[0;34m)\u001b[0m\u001b[0;34m:\u001b[0m\u001b[0;34m\u001b[0m\u001b[0;34m\u001b[0m\u001b[0m\n\u001b[0m\u001b[1;32m     74\u001b[0m     passkwargs = {k: v for k, v in kwargs.items()\n\u001b[1;32m     75\u001b[0m                   if v is not np._NoValue}\n",
      "\u001b[0;31mKeyboardInterrupt\u001b[0m: "
     ]
    }
   ],
   "source": [
    "with open(\"qapdata/chr12c.dat\") as f:\n",
    "    f = [int(elem) for elem in f.read().split()]\n",
    "# adjusting\n",
    "f = np.array(f[1:])\n",
    "n = int(math.sqrt(len(f) / 2))\n",
    "f = f.reshape(2 * n, n)\n",
    "A = f[:n, :]\n",
    "B = f[n:, :]\n",
    "pi = np.array([7,5,1,3,10,4,8,6,9,11,2,12])-[1]*n\n",
    "\n",
    "for i in range(20):\n",
    "    ofv = np.zeros(20)\n",
    "    W1 = np.sort(random.sample(list(range(n)),3))\n",
    "    #W1 = np.array([3, 5, 9])\n",
    "    W2 = [pi[z] for z in W1]\n",
    "    faq = SGM(n_init=100,init_method=\"rand\",shuffle_input=True)\n",
    "    #faq = SGM1(shuffle_input=True)\n",
    "    faq = faq.fit(A,B,W1,W2)\n",
    "    ofv[i] = faq.score_\n",
    "    \n",
    "print(max(ofv))"
   ]
  },
  {
   "cell_type": "code",
   "execution_count": 5,
   "metadata": {},
   "outputs": [
    {
     "name": "stdout",
     "output_type": "stream",
     "text": [
      "[ 2  7 10]\n",
      "[7, 1, 6]\n",
      "[ 4  9  7 12 11 10 13  1  3  5  6 14  2  0  8]\n",
      "[ 4  9  7 12 11 10 13  1  3  5  6 14  2  0  8]\n",
      "9896\n",
      "9896\n"
     ]
    }
   ],
   "source": [
    "with open(\"qapdata/chr15a.dat\") as f:\n",
    "    f = [int(elem) for elem in f.read().split()]\n",
    "# adjusting\n",
    "f = np.array(f[1:])\n",
    "n = int(math.sqrt(len(f) / 2))\n",
    "f = f.reshape(2 * n, n)\n",
    "A = f[:n, :]\n",
    "B = f[n:, :]\n",
    "pi = np.array([5,10,8,13,12,11,14,2,4,6,7,15,3,1,9])-[1]*n\n",
    "\n",
    "W1 = np.sort(random.sample(list(range(n)),3))\n",
    "#W1 = np.array([3, 5, 9])\n",
    "W2 = [pi[z] for z in W1]\n",
    "faq = SGM(n_init=100,init_method=\"rand\",shuffle_input=True)\n",
    "#faq = SGM1(shuffle_input=True)\n",
    "faq = faq.fit(A,B,W1,W2)\n",
    "\n",
    "print(W1)\n",
    "print(W2)\n",
    "print(pi)\n",
    "print(faq.perm_inds_)\n",
    "print(faq.score_)\n",
    "print(np.trace(np.transpose(A) @ B[np.ix_(faq.perm_inds_, faq.perm_inds_)]))"
   ]
  },
  {
   "cell_type": "code",
   "execution_count": 81,
   "metadata": {},
   "outputs": [
    {
     "name": "stdout",
     "output_type": "stream",
     "text": [
      "[    0.     0.     0.     0.     0.     0.     0.     0.     0.     0.\n",
      "     0.     0.     0.     0.     0.     0.     0.     0.     0. 11156.]\n"
     ]
    }
   ],
   "source": [
    "print (ofv)"
   ]
  },
  {
   "cell_type": "code",
   "execution_count": 11,
   "metadata": {},
   "outputs": [],
   "source": [
    "W1 = []\n",
    "W1 = column_or_1d(W1)\n",
    "W1_c = np.array([x for x in range(n) if x not in W1])\n",
    "p_A = np.concatenate(\n",
    "            [W1, W1_c], axis=None\n",
    "        ).astype(int)"
   ]
  },
  {
   "cell_type": "code",
   "execution_count": 15,
   "metadata": {},
   "outputs": [
    {
     "name": "stdout",
     "output_type": "stream",
     "text": [
      "[ 0  1  2  3  4  5  6  7  8  9 10 11]\n",
      "0\n"
     ]
    }
   ],
   "source": [
    "print(p_A)\n",
    "print(W1.shape[0])"
   ]
  },
  {
   "cell_type": "code",
   "execution_count": 30,
   "metadata": {},
   "outputs": [],
   "source": [
    "A = A[np.ix_(p_A, p_A)]"
   ]
  },
  {
   "cell_type": "code",
   "execution_count": 31,
   "metadata": {},
   "outputs": [
    {
     "name": "stdout",
     "output_type": "stream",
     "text": [
      "[[ 0 90 10  0  0  0  0  0  0  0  0  0]\n",
      " [90  0  0 23  0  0  0  0  0  0  0  0]\n",
      " [10  0  0  0 43  0  0  0  0  0  0  0]\n",
      " [ 0 23  0  0  0 88  0  0  0  0  0  0]\n",
      " [ 0  0 43  0  0  0 26  0  0  0  0  0]\n",
      " [ 0  0  0 88  0  0  0 16  0  0  0  0]\n",
      " [ 0  0  0  0 26  0  0  0  1  0  0  0]\n",
      " [ 0  0  0  0  0 16  0  0  0 96  0  0]\n",
      " [ 0  0  0  0  0  0  1  0  0  0 29  0]\n",
      " [ 0  0  0  0  0  0  0 96  0  0  0 37]\n",
      " [ 0  0  0  0  0  0  0  0 29  0  0  0]\n",
      " [ 0  0  0  0  0  0  0  0  0 37  0  0]]\n"
     ]
    }
   ],
   "source": [
    "print(A)"
   ]
  },
  {
   "cell_type": "code",
   "execution_count": 17,
   "metadata": {},
   "outputs": [
    {
     "name": "stdout",
     "output_type": "stream",
     "text": [
      "[]\n"
     ]
    }
   ],
   "source": [
    "A11 = A[:0, :0]\n",
    "print(A11)"
   ]
  },
  {
   "cell_type": "code",
   "execution_count": 4,
   "metadata": {},
   "outputs": [],
   "source": [
    "import networkx as nx\n"
   ]
  },
  {
   "cell_type": "code",
   "execution_count": 80,
   "metadata": {},
   "outputs": [
    {
     "name": "stdout",
     "output_type": "stream",
     "text": [
      "[[0. 1. 1. 0. 0.]\n",
      " [1. 0. 0. 0. 1.]\n",
      " [1. 0. 0. 1. 0.]\n",
      " [0. 0. 1. 0. 1.]\n",
      " [0. 1. 0. 1. 0.]]\n",
      "[[2. 2. 2. 2. 2.]]\n",
      "[[2. 2. 2. 2. 2.]]\n"
     ]
    }
   ],
   "source": [
    "rand = nx.Graph()\n",
    "boo = False\n",
    "while boo == False:\n",
    "    rand = nx.random_regular_graph(2,5)\n",
    "    boo = nx.is_connected(rand)\n",
    "rand = nx.convert_matrix.to_numpy_matrix(rand)\n",
    "print(rand)\n",
    "print(sum(rand))\n",
    "print(sum(rand.transpose()))\n"
   ]
  },
  {
   "cell_type": "code",
   "execution_count": 45,
   "metadata": {},
   "outputs": [
    {
     "name": "stdout",
     "output_type": "stream",
     "text": [
      "[[0. 1. 0. 0. 0. 0. 0. 0. 0. 0. 0. 0. 0. 0. 0. 1. 0. 0. 0. 0.]\n",
      " [1. 0. 0. 0. 0. 0. 1. 0. 0. 0. 0. 0. 0. 0. 0. 0. 0. 0. 0. 0.]\n",
      " [0. 0. 0. 1. 0. 1. 0. 0. 0. 0. 0. 0. 0. 0. 0. 0. 0. 0. 0. 0.]\n",
      " [0. 0. 1. 0. 0. 0. 0. 0. 0. 0. 0. 0. 1. 0. 0. 0. 0. 0. 0. 0.]\n",
      " [0. 0. 0. 0. 0. 1. 0. 0. 0. 0. 0. 0. 0. 0. 0. 0. 1. 0. 0. 0.]\n",
      " [0. 0. 1. 0. 1. 0. 0. 0. 0. 0. 0. 0. 0. 0. 0. 0. 0. 0. 0. 0.]\n",
      " [0. 1. 0. 0. 0. 0. 0. 0. 0. 1. 0. 0. 0. 0. 0. 0. 0. 0. 0. 0.]\n",
      " [0. 0. 0. 0. 0. 0. 0. 0. 1. 0. 0. 0. 0. 0. 0. 0. 0. 1. 0. 0.]\n",
      " [0. 0. 0. 0. 0. 0. 0. 1. 0. 0. 0. 0. 0. 0. 0. 0. 0. 0. 1. 0.]\n",
      " [0. 0. 0. 0. 0. 0. 1. 0. 0. 0. 0. 0. 0. 0. 0. 0. 1. 0. 0. 0.]\n",
      " [0. 0. 0. 0. 0. 0. 0. 0. 0. 0. 0. 1. 0. 0. 0. 0. 0. 1. 0. 0.]\n",
      " [0. 0. 0. 0. 0. 0. 0. 0. 0. 0. 1. 0. 0. 0. 0. 0. 0. 0. 0. 1.]\n",
      " [0. 0. 0. 1. 0. 0. 0. 0. 0. 0. 0. 0. 0. 1. 0. 0. 0. 0. 0. 0.]\n",
      " [0. 0. 0. 0. 0. 0. 0. 0. 0. 0. 0. 0. 1. 0. 0. 0. 0. 0. 0. 1.]\n",
      " [0. 0. 0. 0. 0. 0. 0. 0. 0. 0. 0. 0. 0. 0. 0. 1. 0. 0. 1. 0.]\n",
      " [1. 0. 0. 0. 0. 0. 0. 0. 0. 0. 0. 0. 0. 0. 1. 0. 0. 0. 0. 0.]\n",
      " [0. 0. 0. 0. 1. 0. 0. 0. 0. 1. 0. 0. 0. 0. 0. 0. 0. 0. 0. 0.]\n",
      " [0. 0. 0. 0. 0. 0. 0. 1. 0. 0. 1. 0. 0. 0. 0. 0. 0. 0. 0. 0.]\n",
      " [0. 0. 0. 0. 0. 0. 0. 0. 1. 0. 0. 0. 0. 0. 1. 0. 0. 0. 0. 0.]\n",
      " [0. 0. 0. 0. 0. 0. 0. 0. 0. 0. 0. 1. 0. 1. 0. 0. 0. 0. 0. 0.]]\n",
      "[[2. 2. 2. 2. 2. 2. 2. 2. 2. 2. 2. 2. 2. 2. 2. 2. 2. 2. 2. 2.]]\n",
      "[[2. 2. 2. 2. 2. 2. 2. 2. 2. 2. 2. 2. 2. 2. 2. 2. 2. 2. 2. 2.]]\n",
      "[[2. 2. 2. 2. 2. 2. 2. 2. 2. 2. 2. 2. 2. 2. 2. 2. 2. 2. 2. 2.]]\n"
     ]
    }
   ],
   "source": []
  },
  {
   "cell_type": "code",
   "execution_count": 18,
   "metadata": {},
   "outputs": [
    {
     "name": "stdout",
     "output_type": "stream",
     "text": [
      "[[ 0  8  8  6  7]\n",
      " [ 8  0 12 10 11]\n",
      " [ 8 12  0  5  9]\n",
      " [ 6 10  5  0 15]\n",
      " [ 7 11  9 15  0]]\n"
     ]
    }
   ],
   "source": [
    "A = [[0,8,8,6,7],[8,0,12,10,11],[8,12,0,5,9],[6,10,5,0,15],[7,11,9,15,0]]\n",
    "print(np.array(A))"
   ]
  },
  {
   "cell_type": "code",
   "execution_count": 50,
   "metadata": {},
   "outputs": [
    {
     "name": "stdout",
     "output_type": "stream",
     "text": [
      "[[  0   2 100  12   5]\n",
      " [  2   0   4   8 100]\n",
      " [100   4   0   3   3]\n",
      " [ 12   8   3   0  10]\n",
      " [  5 100   3  10   0]]\n"
     ]
    }
   ],
   "source": [
    "A = [[0,2,100,12,5],[2,0,4,8,100],[100,4,0,3,3],[12,8,3,0,10],[5,100,3,10,0]]\n",
    "print(np.array(A))"
   ]
  },
  {
   "cell_type": "code",
   "execution_count": 51,
   "metadata": {},
   "outputs": [
    {
     "name": "stdout",
     "output_type": "stream",
     "text": [
      "42.0\n",
      "[3 4 0 2 1]\n",
      "[[0. 1. 0. 0. 1.]\n",
      " [1. 0. 0. 1. 0.]\n",
      " [0. 0. 0. 1. 1.]\n",
      " [0. 1. 1. 0. 0.]\n",
      " [1. 0. 1. 0. 0.]]\n"
     ]
    }
   ],
   "source": [
    "faq = SGM(5,\"rand\")\n",
    "faq = faq.fit(A,rand)\n",
    "print(faq.score_)\n",
    "print(faq.perm_inds_)\n",
    "print(rand[np.ix_(faq.perm_inds_, faq.perm_inds_)])"
   ]
  },
  {
   "cell_type": "code",
   "execution_count": null,
   "metadata": {},
   "outputs": [],
   "source": []
  },
  {
   "cell_type": "code",
   "execution_count": 5,
   "metadata": {},
   "outputs": [],
   "source": [
    "dist = [\n",
    "        [0, 2451, 713, 1018, 1631, 1374, 2408, 213, 2571, 875, 1420, 2145, 1972],\n",
    "        [2451, 0, 1745, 1524, 831, 1240, 959, 2596, 403, 1589, 1374, 357, 579],\n",
    "        [713, 1745, 0, 355, 920, 803, 1737, 851, 1858, 262, 940, 1453, 1260],\n",
    "        [1018, 1524, 355, 0, 700, 862, 1395, 1123, 1584, 466, 1056, 1280, 987],\n",
    "        [1631, 831, 920, 700, 0, 663, 1021, 1769, 949, 796, 879, 586, 371],\n",
    "        [1374, 1240, 803, 862, 663, 0, 1681, 1551, 1765, 547, 225, 887, 999],\n",
    "        [2408, 959, 1737, 1395, 1021, 1681, 0, 2493, 678, 1724, 1891, 1114, 701],\n",
    "        [213, 2596, 851, 1123, 1769, 1551, 2493, 0, 2699, 1038, 1605, 2300, 2099],\n",
    "        [2571, 403, 1858, 1584, 949, 1765, 678, 2699, 0, 1744, 1645, 653, 600],\n",
    "        [875, 1589, 262, 466, 796, 547, 1724, 1038, 1744, 0, 679, 1272, 1162],\n",
    "        [1420, 1374, 940, 1056, 879, 225, 1891, 1605, 1645, 679, 0, 1017, 1200],\n",
    "        [2145, 357, 1453, 1280, 586, 887, 1114, 2300, 653, 1272, 1017, 0, 504],\n",
    "        [1972, 579, 1260, 987, 371, 999, 701, 2099, 600, 1162, 1200, 504, 0],\n",
    "    ]\n",
    "dist = np.array(dist)\n",
    "n = dist.shape[0]\n",
    "rand = nx.Graph()\n",
    "boo = False\n",
    "while boo == False:\n",
    "    rand = nx.random_regular_graph(2,n)\n",
    "    boo = nx.is_connected(rand)\n",
    "rand = nx.convert_matrix.to_numpy_matrix(rand)"
   ]
  },
  {
   "cell_type": "code",
   "execution_count": 11,
   "metadata": {},
   "outputs": [
    {
     "name": "stdout",
     "output_type": "stream",
     "text": [
      "7293.0\n",
      "[[0. 0. 0. 0. 0. 0. 0. 1. 0. 1. 0. 0. 0.]\n",
      " [0. 0. 0. 0. 0. 0. 0. 0. 1. 0. 0. 1. 0.]\n",
      " [0. 0. 0. 1. 0. 0. 0. 1. 0. 0. 0. 0. 0.]\n",
      " [0. 0. 1. 0. 1. 0. 0. 0. 0. 0. 0. 0. 0.]\n",
      " [0. 0. 0. 1. 0. 0. 0. 0. 0. 0. 0. 0. 1.]\n",
      " [0. 0. 0. 0. 0. 0. 0. 0. 0. 1. 1. 0. 0.]\n",
      " [0. 0. 0. 0. 0. 0. 0. 0. 1. 0. 0. 0. 1.]\n",
      " [1. 0. 1. 0. 0. 0. 0. 0. 0. 0. 0. 0. 0.]\n",
      " [0. 1. 0. 0. 0. 0. 1. 0. 0. 0. 0. 0. 0.]\n",
      " [1. 0. 0. 0. 0. 1. 0. 0. 0. 0. 0. 0. 0.]\n",
      " [0. 0. 0. 0. 0. 1. 0. 0. 0. 0. 0. 1. 0.]\n",
      " [0. 1. 0. 0. 0. 0. 0. 0. 0. 0. 1. 0. 0.]\n",
      " [0. 0. 0. 0. 1. 0. 1. 0. 0. 0. 0. 0. 0.]]\n"
     ]
    }
   ],
   "source": [
    "faq = SGM(100,\"rand\")\n",
    "faq = faq.fit(dist,rand)\n",
    "print(faq.score_ / 2)\n",
    "#print(faq.perm_inds_)\n",
    "print(rand[np.ix_(faq.perm_inds_, faq.perm_inds_)])"
   ]
  },
  {
   "cell_type": "code",
   "execution_count": 4,
   "metadata": {},
   "outputs": [],
   "source": [
    "\n",
    "import matplotlib.pyplot as plt\n",
    "import numpy as np\n",
    "import pandas as pd\n",
    "import seaborn as sns\n",
    "\n",
    "from graspy.plot import heatmap\n",
    "from graspy.simulations import er_corr, sbm, sbm_corr\n",
    "from graspy.utils import cartprod"
   ]
  },
  {
   "cell_type": "code",
   "execution_count": 5,
   "metadata": {},
   "outputs": [
    {
     "data": {
      "text/plain": [
       "<matplotlib.axes._subplots.AxesSubplot at 0x1a20852b00>"
      ]
     },
     "execution_count": 5,
     "metadata": {},
     "output_type": "execute_result"
    },
    {
     "data": {
      "image/png": "[encoded data removed]",
      "text/plain": [
       "<Figure size 288x288 with 1 Axes>"
      ]
     },
     "metadata": {
      "needs_background": "light"
     },
     "output_type": "display_data"
    },
    {
     "data": {
      "image/png": "[encoded data removed]",
      "text/plain": [
       "<Figure size 720x360 with 3 Axes>"
      ]
     },
     "metadata": {},
     "output_type": "display_data"
    }
   ],
   "source": [
    "directed = False\n",
    "loops = False\n",
    "n_per_block = 100\n",
    "n_blocks = 3\n",
    "block_members = np.array(n_blocks * [n_per_block])\n",
    "n_verts = block_members.sum()\n",
    "rho = 0.9\n",
    "block_probs = np.array([[0.7, 0.3, 0.4], [0.3, 0.7, 0.3], [0.4, 0.3, 0.7]])\n",
    "fig, ax = plt.subplots(1, 1, figsize=(4, 4))\n",
    "sns.heatmap(block_probs, cbar=False, annot=True, square=True, cmap=\"Reds\", ax=ax)\n",
    "ax.set_title(\"SBM block probabilities\")\n",
    "\n",
    "A1, A2 = sbm_corr(block_members, block_probs, rho, directed=directed, loops=loops)\n",
    "fig, axs = plt.subplots(1, 3, figsize=(10, 5))\n",
    "heatmap(A1, ax=axs[0], cbar=False, title=\"Graph 1\")\n",
    "heatmap(A2, ax=axs[1], cbar=False, title=\"Graph 2\")\n",
    "heatmap(A1 - A2, ax=axs[2], cbar=False, title=\"Diff (G1 - G2)\")"
   ]
  },
  {
   "cell_type": "code",
   "execution_count": null,
   "metadata": {},
   "outputs": [],
   "source": [
    "diff = A1-A2\n",
    "while i < 5:\n",
    "    x = rand "
   ]
  },
  {
   "cell_type": "code",
   "execution_count": 6,
   "metadata": {},
   "outputs": [],
   "source": [
    "faq = SGM(gmp=True)\n",
    "faq = faq.fit(A1,A2)\n",
    "A2_unshuf = A2[np.ix_(faq.perm_inds_, faq.perm_inds_)]\n"
   ]
  },
  {
   "cell_type": "code",
   "execution_count": 7,
   "metadata": {},
   "outputs": [
    {
     "data": {
      "text/plain": [
       "<matplotlib.axes._subplots.AxesSubplot at 0x1a20d8fac8>"
      ]
     },
     "execution_count": 7,
     "metadata": {},
     "output_type": "execute_result"
    },
    {
     "data": {
      "image/png": "[encoded data removed]",
      "text/plain": [
       "<Figure size 720x360 with 3 Axes>"
      ]
     },
     "metadata": {},
     "output_type": "display_data"
    }
   ],
   "source": [
    "fig, axs = plt.subplots(1, 3, figsize=(10, 5))\n",
    "heatmap(A1, ax=axs[0], cbar=False, title=\"Graph 1\")\n",
    "heatmap(A2_unshuf, ax=axs[1], cbar=False, title=\"Graph 2\")\n",
    "heatmap(A1 - A2_unshuf, ax=axs[2], cbar=False, title=\"Diff (G1 - G2)\")"
   ]
  },
  {
   "cell_type": "code",
   "execution_count": 9,
   "metadata": {},
   "outputs": [
    {
     "name": "stdout",
     "output_type": "stream",
     "text": [
      "[0. 0. 0. 0. 0. 0. 0. 0. 0. 0. 0. 0. 0. 0. 0. 0. 0. 0. 0. 0. 0. 0. 0. 0.\n",
      " 0. 0. 0. 0. 0. 0. 0. 0. 0. 0. 0. 0. 0. 0. 0. 0. 0. 0. 0. 0. 0. 0. 0. 0.\n",
      " 0. 0. 0. 0. 0. 0. 0. 0. 0. 0. 0. 0. 0. 0. 0. 0. 0. 0. 0. 0. 0. 0. 0. 0.\n",
      " 0. 0. 0. 0. 0. 0. 0. 0. 0. 0. 0. 0. 0. 0. 0. 0. 0. 0. 0. 0. 0. 0. 0. 0.\n",
      " 0. 0. 0. 0. 0. 0. 0. 0. 0. 0. 0. 0. 0. 0. 0. 0. 0. 0. 0. 0. 0. 0. 0. 0.\n",
      " 0. 0. 0. 0. 0. 0. 0. 0. 0. 0. 0. 0. 0. 0. 0. 0. 0. 0. 0. 0. 0. 0. 0. 0.\n",
      " 0. 0. 0. 0. 0. 0. 0. 0. 0. 0. 0. 0. 0. 0. 0. 0. 0. 0. 0. 0. 0. 0. 0. 0.\n",
      " 0. 0. 0. 0. 0. 0. 0. 0. 0. 0. 0. 0. 0. 0. 0. 0. 0. 0. 0. 0. 0. 0. 0. 0.\n",
      " 0. 0. 0. 0. 0. 0. 0. 0. 0. 0. 0. 0. 0. 0. 0. 0. 0. 0. 0. 0. 0. 0. 0. 0.\n",
      " 0. 0. 0. 0. 0. 0. 0. 0. 0. 0. 0. 0. 0. 0. 0. 0. 0. 0. 0. 0. 0. 0. 0. 0.\n",
      " 0. 0. 0. 0. 0. 0. 0. 0. 0. 0. 0. 0. 0. 0. 0. 0. 0. 0. 0. 0. 0. 0. 0. 0.\n",
      " 0. 0. 0. 0. 0. 0. 0. 0. 0. 0. 0. 0. 0. 0. 0. 0. 0. 0. 0. 0. 0. 0. 0. 0.\n",
      " 0. 0. 0. 0. 0. 0. 0. 0. 0. 0. 0. 0.]\n"
     ]
    }
   ],
   "source": [
    "print(sum(A2_unshuf))"
   ]
  },
  {
   "cell_type": "code",
   "execution_count": null,
   "metadata": {},
   "outputs": [],
   "source": []
  }
 ],
 "metadata": {
  "kernelspec": {
   "display_name": "Python 3",
   "language": "python",
   "name": "python3"
  },
  "language_info": {
   "codemirror_mode": {
    "name": "ipython",
    "version": 3
   },
   "file_extension": ".py",
   "mimetype": "text/x-python",
   "name": "python",
   "nbconvert_exporter": "python",
   "pygments_lexer": "ipython3",
   "version": "3.7.3"
  }
 },
 "nbformat": 4,
 "nbformat_minor": 2
}
